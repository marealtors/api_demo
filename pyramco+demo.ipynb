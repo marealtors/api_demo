{
 "cells": [
  {
   "cell_type": "markdown",
   "metadata": {},
   "source": [
    "welcome to the pyramco demo notebook. put your api key in the box below. leave the url as-is. click \"kernel\" above and change it to 3.6, then restart it."
   ]
  },
  {
   "cell_type": "code",
   "execution_count": null,
   "metadata": {
    "collapsed": true
   },
   "outputs": [],
   "source": [
    "ramco_api_key = 'your_ramco_api_key_goes_here'\n",
    "ramco_api_url = 'https://api.ramcoams.com/api/v2/'"
   ]
  },
  {
   "cell_type": "markdown",
   "metadata": {},
   "source": [
    "run the cell above (which sets your variables to memory,) then run the cell below to prove your variables are set properly by printing them out."
   ]
  },
  {
   "cell_type": "code",
   "execution_count": null,
   "metadata": {
    "collapsed": false,
    "scrolled": false
   },
   "outputs": [],
   "source": [
    "print(ramco_api_key)\n",
    "print(ramco_api_url)"
   ]
  },
  {
   "cell_type": "markdown",
   "metadata": {},
   "source": [
    "the result you're looking for above is:\n",
    "\n",
    "    your_ramco_api_key_goes_here (or whatever you set your api key to above, hopefully!)\n",
    "    https://api.ramcoams.com/api/v2/\n",
    "\n",
    "those two variables will be put in a config file later, but for now this is good enough.\n",
    "you can also just explicitly state those variables at the beginning of every script, like: \n",
    "\n",
    "    ramco_api_key = 'your_ramco_api_key_goes_here'\n",
    "    ramco_api_url = 'https://api.ramcoams.com/api/v2/'"
   ]
  },
  {
   "cell_type": "code",
   "execution_count": null,
   "metadata": {
    "collapsed": false
   },
   "outputs": [],
   "source": [
    "### test pyramco setup\n",
    "\n",
    "# first we import pyramco, which should be in the right place already\n",
    "import pyramco\n",
    "\n",
    "# set the variable 'reply' to the value of the function 'pyramco.clear_cache'\n",
    "# setting the variable implicitly fires the function\n",
    "reply = pyramco.clear_cache()\n",
    "\n",
    "# then print the content of the variable 'reply' to screen\n",
    "print(reply)"
   ]
  },
  {
   "cell_type": "markdown",
   "metadata": {},
   "source": [
    "assuming all is well, you should see the response:\n",
    "    \n",
    "    {'ResponseCode': 204, 'ResponseText': 'Cache cleared.'}\n",
    "\n",
    "congratulations, you've just written a script that did something useful!"
   ]
  },
  {
   "cell_type": "markdown",
   "metadata": {},
   "source": [
    " * GetEntityTypes\n",
    "\n",
    " * Get all entity types from ramco."
   ]
  },
  {
   "cell_type": "code",
   "execution_count": null,
   "metadata": {
    "collapsed": true
   },
   "outputs": [],
   "source": [
    "# from now on, we import pyramco like this in every script\n",
    "import pyramco\n",
    "\n",
    "# set the variable 'types' to the result of running the \n",
    "# 'get_entity_types' function\n",
    "\n",
    "types = pyramco.get_entity_types()\n",
    "\n",
    "# then print the result\n",
    "print(types)"
   ]
  },
  {
   "cell_type": "markdown",
   "metadata": {},
   "source": [
    " * GetEntityMetadata\n",
    " \n",
    " * Get metadata for the contact entity in ramco."
   ]
  },
  {
   "cell_type": "code",
   "execution_count": null,
   "metadata": {
    "collapsed": false,
    "scrolled": true
   },
   "outputs": [],
   "source": [
    "import pyramco\n",
    "\n",
    "# set the variable 'metadata' to the result of running the \n",
    "# 'get_entity_metadata' function on the entity 'Contact'\n",
    "\n",
    "metadata = pyramco.get_entity_metadata('Contact')\n",
    "\n",
    "# then print the result\n",
    "print(metadata)"
   ]
  },
  {
   "cell_type": "markdown",
   "metadata": {},
   "source": [
    " * GetOptionSet\n",
    " \n",
    " * Get a list of valid value/label pairs for the cobalt_PreferredPhone OptionSet on the contact entity.\n",
    "\n",
    "(using 'ramco_preferredphone' below as cobalt_PreferredPhone doesn't exist in ramco)"
   ]
  },
  {
   "cell_type": "code",
   "execution_count": null,
   "metadata": {
    "collapsed": false
   },
   "outputs": [],
   "source": [
    "import pyramco\n",
    "\n",
    "option_set = pyramco.get_option_set('Contact','ramco_preferredphone')\n",
    "\n",
    "print(option_set)"
   ]
  },
  {
   "cell_type": "markdown",
   "metadata": {
    "collapsed": true
   },
   "source": [
    " * GetEntities - Basic\n",
    "\n",
    " * Request data for 10 contact records. No filter statement used yet"
   ]
  },
  {
   "cell_type": "code",
   "execution_count": null,
   "metadata": {
    "collapsed": false
   },
   "outputs": [],
   "source": [
    "import pyramco\n",
    "\n",
    "contacts = pyramco.get_entities('Contact', ('ContactId,FirstName,LastName,ramco_nrdsid,ModifiedOn'), max_results=10)\n",
    "\n",
    "print(contacts)"
   ]
  },
  {
   "cell_type": "markdown",
   "metadata": {
    "collapsed": true
   },
   "source": [
    " * GetEntities - Basic Filtering\n",
    "\n",
    " * Request data for max of 10 contact records modified since Jan 1, 2015.\n",
    " * When this works...\n",
    " \n",
    "    ResponseCode = 200\n",
    "    ResponseText = 'OK'\n",
    "    Data = collection of value/label pairs for the optionset"
   ]
  },
  {
   "cell_type": "code",
   "execution_count": null,
   "metadata": {
    "collapsed": false
   },
   "outputs": [],
   "source": [
    "import pyramco\n",
    "\n",
    "contacts = pyramco.get_entities('Contact', ('ContactId,FirstName,LastName,ramco_nrdsid,ModifiedOn'),\\\n",
    "                                max_results=10,filters='ModifiedOn<ge>2015-01-01')\n",
    "\n",
    "print(contacts)"
   ]
  },
  {
   "cell_type": "markdown",
   "metadata": {
    "collapsed": true
   },
   "source": [
    " * GetEntities - Advanced Filtering\n",
    "\n",
    " * Request data for max of 10 contact records modified since Jan 1, 2015 where LastName starts with 'Add' or LastName equals 'Acosta'"
   ]
  },
  {
   "cell_type": "code",
   "execution_count": null,
   "metadata": {
    "collapsed": false
   },
   "outputs": [],
   "source": [
    "import pyramco\n",
    "\n",
    "contacts = pyramco.get_entities('Contact', ('ContactId,FirstName,LastName,ramco_nrdsid,ModifiedOn'),\\\n",
    "                                max_results=10,\\\n",
    "                                filters='ModifiedOn<ge>2015-01-01 \\\n",
    "                                AND (LastName<sb>#Add# \\\n",
    "                                OR LastName<eq>#Acosta#)')\n",
    "\n",
    "print(contacts)"
   ]
  },
  {
   "cell_type": "markdown",
   "metadata": {
    "collapsed": true
   },
   "source": [
    " * GetEntity - Basic\n",
    "\n",
    " * Requesting a specific contact record be returned."
   ]
  },
  {
   "cell_type": "code",
   "execution_count": null,
   "metadata": {
    "collapsed": false
   },
   "outputs": [],
   "source": [
    "import pyramco\n",
    "\n",
    "guid = 'get-yourself-a-member-guid'\n",
    "\n",
    "contact = pyramco.get_entity('Contact', guid,\\\n",
    "                              ('ContactId,Address3_Latitude,FirstName,LastName,'\\\n",
    "                              'ramco_nrdsid,StatusCode,ModifiedOn'))\n",
    "\n",
    "print(contact)"
   ]
  },
  {
   "cell_type": "markdown",
   "metadata": {
    "collapsed": true
   },
   "source": [
    " * GetEntity - Request with data from relationship\n",
    "\n",
    " * Request data for a specific contact record and include data from memberships.\n",
    " \n",
    " * You can include data from up to six distinct relationships."
   ]
  },
  {
   "cell_type": "code",
   "execution_count": null,
   "metadata": {
    "collapsed": false
   },
   "outputs": [],
   "source": [
    "import pyramco\n",
    "\n",
    "guid = 'get-yourself-a-member-guid'\n",
    "\n",
    "contact = pyramco.get_entity('Contact', guid,\n",
    "                              ('ContactId,FirstName,LastName,ramco_nrdsid,'\\\n",
    "                              'StatusCode,ModifiedOn,cobalt_contact_cobalt_membership/StatusCode,'\\\n",
    "                              'cobalt_contact_cobalt_membership/cobalt_AssociationId,'\\\n",
    "                              'cobalt_contact_cobalt_membership/cobalt_MemberTypeId'))\n",
    "print(contact)"
   ]
  },
  {
   "cell_type": "markdown",
   "metadata": {
    "collapsed": true
   },
   "source": [
    " * UpdateEntity\n",
    "\n",
    " * Note that update entity should return:\n",
    "    ResponseCode = 204\n",
    "    ResponseText = 'OK - No Data'\n",
    "    \n",
    " * Here we demonstrate a method to geocode a member address and use update entity to push it back into RAMCO"
   ]
  },
  {
   "cell_type": "code",
   "execution_count": null,
   "metadata": {
    "collapsed": false
   },
   "outputs": [],
   "source": [
    "import googlemaps\n",
    "import pyramco\n",
    "from pprint import pprint\n",
    "\n",
    "# google maps API key\n",
    "gmaps = googlemaps.Client(key='get-a-key-https://cloud.google.com/maps-platform/')\n",
    "\n",
    "# your contact's GUID\n",
    "guid = 'get-yourself-a-member-guid'\n",
    "\n",
    "# get your contact's full address string\n",
    "reply_address = pyramco.get_entity('Contact', guid, 'Address1_Composite' )\n",
    "raw_address = reply_address['Data']['Address1_Composite']\n",
    "print('Raw Address: ',raw_address)\n",
    "print('--------------------')\n",
    "\n",
    "# pass the raw address to google maps api and fetch the values we need\n",
    "geocode_result = gmaps.geocode(raw_address)\n",
    "print('Google Maps API return: ',geocode_result)\n",
    "print('--------------------')\n",
    "\n",
    "# iterate over the return to get latitude/longitude values\n",
    "lat = geocode_result[0]['geometry']['location']['lat']\n",
    "lng = geocode_result[0]['geometry']['location']['lng']\n",
    "formatted_address = geocode_result[0]['formatted_address']\n",
    "place_id = geocode_result[0]['place_id']\n",
    "print('Latitude: ',lat)\n",
    "print('Longitude: ',lng)\n",
    "print('Formatted Address: ',formatted_address)\n",
    "print('Google Place ID: ',place_id)\n",
    "print('--------------------')\n",
    "\n",
    "# call the ramco API again to update the record and print the response\n",
    "update_reply = pyramco.update_entity('Contact', guid, (f'Address3_Name=#{place_id}#,Address3_Composite=#{formatted_address}#,Address3_Latitude=#{lat}#,Address3_Longitude=#{lng}#'), string_delimiter='#')\n",
    "pprint(update_reply)\n"
   ]
  }
 ],
 "metadata": {
  "kernelspec": {
   "display_name": "Python 3.6",
   "language": "python",
   "name": "python3.6"
  },
  "language_info": {
   "codemirror_mode": {
    "name": "ipython",
    "version": 3
   },
   "file_extension": ".py",
   "mimetype": "text/x-python",
   "name": "python",
   "nbconvert_exporter": "python",
   "pygments_lexer": "ipython3",
   "version": "3.6.0"
  }
 },
 "nbformat": 4,
 "nbformat_minor": 0
}
